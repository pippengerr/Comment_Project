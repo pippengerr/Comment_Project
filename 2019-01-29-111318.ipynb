{
 "cells": [
  {
   "cell_type": "code",
   "execution_count": null,
   "metadata": {},
   "outputs": [],
   "source": []
  },
  {
   "cell_type": "code",
   "execution_count": 14,
   "metadata": {},
   "outputs": [
    {
     "data": {
      "text/plain": [
       "'\\nIn the first semester, we covered the fundamentals of Python, including loops, conditionals, functions, and dictionaries. In addition, we explored connections between math and computer science, including plotting, simulating the game of craps, and optimizing customer service at a bank. \\n\\n'"
      ]
     },
     "execution_count": 14,
     "metadata": {},
     "output_type": "execute_result"
    }
   ],
   "source": [
    "def coursedescription(course):\n",
    "    '''a paragraph or coursedescription'''\n",
    "    if course == 'comsci':\n",
    "        return (\"\\nIn the first semester, we covered the fundamentals of Python, including loops, conditionals, functions, and dictionaries. In addition, we explored connections between math and computer science, including plotting, simulating the game of craps, and optimizing customer service at a bank. \\n\\n\")\n",
    "\n",
    "\n",
    "coursedescription('comsci')"
   ]
  },
  {
   "cell_type": "code",
   "execution_count": 15,
   "metadata": {},
   "outputs": [],
   "source": [
    "def grade(finals, daily, quiz):\n",
    "    '''After inputting the final exam score, the daily participation grade, and the quiz average, this function returns the final course grade and the letter grade of the student.'''\n",
    "    grade = int(finals)*0.3+int(daily)*0.45+int(quiz)*0.25\n",
    "    gradee = int(grade)\n",
    "    if gradee >= 90:\n",
    "        letter = \"A\"\n",
    "    elif 80 <= gradee < 90:\n",
    "        letter = \"B\"\n",
    "    elif 70 <= gradee < 80:\n",
    "        letter = \"C\"\n",
    "    elif 60 <= gradee < 70:\n",
    "        letter = \"D\"\n",
    "    elif gradee < 60:\n",
    "        letter = \"F\"\n",
    "    return f\"In this semester, {name} has a quiz average of {quiz}. For daily performance, {pronoun_list[0]} receives a score of {daily}. {pronoun_list[1].title()} grade for the final exam is {finals}. Overall, {pronoun_list[1]} final grade for this semester is {gradee} ({letter}). \\n\\n\""
   ]
  },
  {
   "cell_type": "code",
   "execution_count": 16,
   "metadata": {},
   "outputs": [],
   "source": [
    "def group_project(collaboration):\n",
    "    '''Comments on group project collaboration performance. Input is one of three options: subpar, acceptable, or superb.'''\n",
    "    feedback = ''\n",
    "    if collaboration == 'subpar':\n",
    "        feedback = 'did not communicate well within the team, and contributed little to the end product.'\n",
    "    if collaboration == 'acceptable':\n",
    "        feedback = 'could have done better with time management, but the overall effort was strong.'\n",
    "    if collaboration == 'superb':\n",
    "        feedback = 'carried the load of the work and put in a great effort.'\n",
    "    return(f\"{pronoun_list[1].title()} performance in our group project was {collaboration}. {name} {feedback} \\n\\n\")"
   ]
  },
  {
   "cell_type": "code",
   "execution_count": 17,
   "metadata": {},
   "outputs": [],
   "source": [
    "def suggestions(examgrade, dailyperformance, quizaverage):\n",
    "    '''Output is any of the following suggestions based on the student's exam grade, daily performance and quiz average'''\n",
    "    mysuggestions = []\n",
    "    if int(examgrade) <= 60:\n",
    "        mysuggestions.append(\"I don't want to see you next semester. I do not know what is going on. But you should really start to consider about your future course schedules for next semester \")\n",
    "    if int(examgrade) <= 50 and int(dailyperformance) <= 50:\n",
    "        mysuggestions.append(\"It's time to drop out of school. Think about your future options. Although you can not make to colleges, you have a lot of options. You are a good person but apparently a failure in acadamic.\")\n",
    "    if 50 < int(dailyperformance) <= 75:\n",
    "        mysuggestions.append(\"Pay more attention to class. Do not be cocky about your exam grade and quiz averages. Daily performance is also an important part of your grade and this course.\")\n",
    "    if int(quizaverage) <= 75:\n",
    "        mysuggestions.append(\"Meet with me during office hours before tests. You have great protential. I believe that if we work together, you can graduate. \")\n",
    "    if int(examgrade) >= 90:\n",
    "        mysuggestions.append(\"Keep up the good work! I am pleased with your work this semester. You finished all the assignment on time. You were active in class discussions. You also had great performance in tests and quizes. I am proud of you. Keep it up! \")\n",
    "    for suggestion in mysuggestions:\n",
    "        return(suggestion)"
   ]
  },
  {
   "cell_type": "code",
   "execution_count": 18,
   "metadata": {},
   "outputs": [],
   "source": [
    "def pronouns(gender):\n",
    "    '''Identifies the proper pronouns for each students's comment. The user must enter one of three options: male, female, or nb (nonbinary). '''\n",
    "    pronouns = []\n",
    "    if gender == 'male':\n",
    "        pronouns.append('he')\n",
    "        pronouns.append('his')\n",
    "    if gender == 'female':\n",
    "        pronouns.append('she')\n",
    "        pronouns.append('her')\n",
    "    if gender == 'nb':\n",
    "        pronouns.append('they')\n",
    "        pronouns.append('their')\n",
    "    return pronouns"
   ]
  },
  {
   "cell_type": "code",
   "execution_count": 19,
   "metadata": {},
   "outputs": [],
   "source": [
    "def personality(personalitytraits):\n",
    "    '''Prints out students' personality traits. User must input two personality traits.'''\n",
    "    traits = []\n",
    "    for trait in personalitytraits.split(','):\n",
    "        traits.append(trait)\n",
    "    return(f\"{name} is very {traits[0]} and {traits[1]}. \")"
   ]
  },
  {
   "cell_type": "code",
   "execution_count": 20,
   "metadata": {},
   "outputs": [],
   "source": [
    "def enjoyable(appreciate):\n",
    "    '''Prints out the teacher's feeling about having the student in class. User must input the feeling—\"I am pleased/unhappy/excited about having you in class\"'''\n",
    "    return(f\"I {appreciate} having you in class. \")"
   ]
  },
  {
   "cell_type": "code",
   "execution_count": 21,
   "metadata": {},
   "outputs": [],
   "source": [
    "def reflection(selfreflection):\n",
    "    '''Prints out the student's self reflection with proper pronouns and names.'''\n",
    "    return(f\"In {name}'s reflection, {pronoun_list[0]} wrote: '{selfreflection}' \\n\\n\")"
   ]
  },
  {
   "cell_type": "code",
   "execution_count": 24,
   "metadata": {},
   "outputs": [
    {
     "name": "stdout",
     "output_type": "stream",
     "text": [
      "\n",
      "In the first semester, we covered the fundamentals of Python, including loops, conditionals, functions, and dictionaries. In addition, we explored connections between math and computer science, including plotting, simulating the game of craps, and optimizing customer service at a bank. \n",
      "\n",
      "In this semester, Rachaaall has a quiz average of 98. For daily performance, she receives a score of 98. Her grade for the final exam is 100. Overall, her final grade for this semester is 98 (A). \n",
      "\n",
      "In Rachaaall's reflection, she wrote: 'My parents force me to get a good grade, I do not like computer science.' \n",
      "\n",
      "Her performance in our group project was superb. Rachaaall carried the load of the work and put in a great effort. \n",
      "\n",
      "Rachaaall is very hardworking and nerdy. I like having you in class. Keep up the good work! I am pleased with your work this semester. You finished all the assignment on time. You were active in class discussions. You also had great performance in tests and quizes. I am proud of you. Keep it up! \n",
      "\n",
      "In the first semester, we covered the fundamentals of Python, including loops, conditionals, functions, and dictionaries. In addition, we explored connections between math and computer science, including plotting, simulating the game of craps, and optimizing customer service at a bank. \n",
      "\n",
      "In this semester, Nick has a quiz average of 75. For daily performance, he receives a score of 90. His grade for the final exam is 80. Overall, his final grade for this semester is 83 (B). \n",
      "\n",
      "In Nick's reflection, he wrote: 'I can easily get good grades because of my appearance. I don't care about anything else.' \n",
      "\n",
      "His performance in our group project was acceptable. Nick could have done better with time management, but the overall effort was strong. \n",
      "\n",
      "Nick is very confident and promising. I enjoy having you in class. Meet with me during office hours before tests. You have great protential. I believe that if we work together, you can graduate. \n",
      "\n",
      "In the first semester, we covered the fundamentals of Python, including loops, conditionals, functions, and dictionaries. In addition, we explored connections between math and computer science, including plotting, simulating the game of craps, and optimizing customer service at a bank. \n",
      "\n",
      "In this semester, Kanye has a quiz average of 76. For daily performance, he receives a score of 30. His grade for the final exam is 45. Overall, his final grade for this semester is 46 (F). \n",
      "\n",
      "In Kanye's reflection, he wrote: 'I can't read. I don't know what's happening.' \n",
      "\n",
      "His performance in our group project was subpar. Kanye did not communicate well within the team, and contributed little to the end product. \n",
      "\n",
      "Kanye is very stupid and lazy. I hate having you in class. I don't want to see you next semester. I do not know what is going on. But you should really start to consider about your future course schedules for next semester \n",
      "\n",
      "In the first semester, we covered the fundamentals of Python, including loops, conditionals, functions, and dictionaries. In addition, we explored connections between math and computer science, including plotting, simulating the game of craps, and optimizing customer service at a bank. \n",
      "\n",
      "In this semester, LilBaby has a quiz average of 100. For daily performance, he receives a score of 55. His grade for the final exam is 100. Overall, his final grade for this semester is 79 (C). \n",
      "\n",
      "In LilBaby's reflection, he wrote: 'I hate showing up to class, but the tests are easy.' \n",
      "\n",
      "His performance in our group project was superb. LilBaby carried the load of the work and put in a great effort. \n",
      "\n",
      "LilBaby is very weird and confusing. I appreciate having you in class. Pay more attention to class. Do not be cocky about your exam grade and quiz averages. Daily performance is also an important part of your grade and this course.\n",
      "\n",
      "In the first semester, we covered the fundamentals of Python, including loops, conditionals, functions, and dictionaries. In addition, we explored connections between math and computer science, including plotting, simulating the game of craps, and optimizing customer service at a bank. \n",
      "\n",
      "In this semester, Kim has a quiz average of 65. For daily performance, she receives a score of 88. Her grade for the final exam is 80. Overall, her final grade for this semester is 79 (C). \n",
      "\n",
      "In Kim's reflection, she wrote: 'I'm trying really hard, but things just don't make sense all the time!' \n",
      "\n",
      "Her performance in our group project was acceptable. Kim could have done better with time management, but the overall effort was strong. \n",
      "\n",
      "Kim is very hardworking and easily bored. I enjoy having you in class. Meet with me during office hours before tests. You have great protential. I believe that if we work together, you can graduate. \n"
     ]
    }
   ],
   "source": [
    "import csv\n",
    "with open('teachers.csv') as csvfile:\n",
    "    data = csv.reader(csvfile, delimiter=',')\n",
    "    next(data,  None)\n",
    "    for line in data:\n",
    "        name = line[0]\n",
    "        names = []\n",
    "        f = open(name, \"w+\")\n",
    "        names.append(name)\n",
    "        pronoun_list = pronouns(line[4])\n",
    "        mycomment = coursedescription('comsci')\n",
    "        mycomment += grade(line[1], line[2], line[3])\n",
    "        mycomment += reflection(line[6])\n",
    "        mycomment += group_project(line[8])\n",
    "        mycomment += personality(line[5])\n",
    "        mycomment += enjoyable(line[7])\n",
    "        mycomment += suggestions(line[1], line[2], line[3])\n",
    "        f.write(mycomment)\n",
    "        f.close()\n",
    "        print(mycomment)"
   ]
  },
  {
   "cell_type": "code",
   "execution_count": 0,
   "metadata": {},
   "outputs": [],
   "source": []
  }
 ],
 "metadata": {
  "kernelspec": {
   "display_name": "Python 3",
   "language": "python",
   "name": "python3"
  },
  "language_info": {
   "codemirror_mode": {
    "name": "ipython",
    "version": 3
   },
   "file_extension": ".py",
   "mimetype": "text/x-python",
   "name": "python",
   "nbconvert_exporter": "python",
   "pygments_lexer": "ipython3",
   "version": "3.6.5"
  }
 },
 "nbformat": 4,
 "nbformat_minor": 1
}
